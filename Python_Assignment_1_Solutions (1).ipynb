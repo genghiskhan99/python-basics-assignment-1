{
  "cells": [
    {
      "cell_type": "markdown",
      "id": "13e5e682",
      "metadata": {
        "id": "13e5e682"
      },
      "source": [
        "# Python Basics: Assignment 1 - Solutions"
      ]
    },
    {
      "cell_type": "markdown",
      "id": "74df5678",
      "metadata": {
        "id": "74df5678"
      },
      "source": [
        "## Section 1: Numerical Data Types & Arithmetic Operators"
      ]
    },
    {
      "cell_type": "code",
      "execution_count": 1,
      "id": "2b958a4f",
      "metadata": {
        "colab": {
          "base_uri": "https://localhost:8080/"
        },
        "id": "2b958a4f",
        "outputId": "1e5edc9e-8a9e-4b39-8309-260088b1b83b"
      },
      "outputs": [
        {
          "output_type": "stream",
          "name": "stdout",
          "text": [
            "Liters needed: 41.30434782608695\n"
          ]
        }
      ],
      "source": [
        "fuel_efficiency = 11.5  # km per liter\n",
        "trip_distance = 475     # kilometers\n",
        "liters_needed = trip_distance / fuel_efficiency\n",
        "print(\"Liters needed:\", liters_needed)"
      ]
    },
    {
      "cell_type": "markdown",
      "id": "da05f3db",
      "metadata": {
        "id": "da05f3db"
      },
      "source": [
        "**Output:** 41.30\n",
        "\n",
        "**Explanation:** Total distance divided by fuel efficiency."
      ]
    },
    {
      "cell_type": "code",
      "execution_count": null,
      "id": "61aa2440",
      "metadata": {
        "id": "61aa2440"
      },
      "outputs": [],
      "source": [
        "tank_capacity = 50\n",
        "full_tanks = int(liters_needed // tank_capacity)\n",
        "print(\"Full tanks:\", full_tanks)"
      ]
    },
    {
      "cell_type": "markdown",
      "id": "9d61d082",
      "metadata": {
        "id": "9d61d082"
      },
      "source": [
        "**Output:** 0\n",
        "\n",
        "**Explanation:** Floor division gives whole number of full tanks."
      ]
    },
    {
      "cell_type": "code",
      "execution_count": null,
      "id": "d89c15c5",
      "metadata": {
        "id": "d89c15c5"
      },
      "outputs": [],
      "source": [
        "fuel_price = 1.65\n",
        "fuel_cost = liters_needed * fuel_price\n",
        "print(\"Fuel cost: $\", fuel_cost)"
      ]
    },
    {
      "cell_type": "markdown",
      "id": "76fe9e04",
      "metadata": {
        "id": "76fe9e04"
      },
      "source": [
        "**Output:** 68.15\n",
        "\n",
        "**Explanation:** Multiply liters needed by price per liter."
      ]
    },
    {
      "cell_type": "code",
      "execution_count": null,
      "id": "e8f2c527",
      "metadata": {
        "id": "e8f2c527"
      },
      "outputs": [],
      "source": [
        "fuel_remaining = tank_capacity - liters_needed\n",
        "print(\"Fuel remaining:\", fuel_remaining)"
      ]
    },
    {
      "cell_type": "markdown",
      "id": "9b4e5895",
      "metadata": {
        "id": "9b4e5895"
      },
      "source": [
        "**Output:** 8.69\n",
        "\n",
        "**Explanation:** Subtract fuel used from tank capacity."
      ]
    },
    {
      "cell_type": "markdown",
      "id": "05bb8563",
      "metadata": {
        "id": "05bb8563"
      },
      "source": [
        "## Section 2: Comparison & Logical Operators"
      ]
    },
    {
      "cell_type": "code",
      "execution_count": null,
      "id": "9b40bdc1",
      "metadata": {
        "id": "9b40bdc1"
      },
      "outputs": [],
      "source": [
        "age = 30\n",
        "is_weekday = True\n",
        "is_family_day = False\n",
        "group_size = 3\n",
        "discount = (age <= 12 and is_weekday) or (age >= 65) or (is_family_day and group_size >= 4)\n",
        "print(\"Discount (initial):\", discount)"
      ]
    },
    {
      "cell_type": "markdown",
      "id": "262658bf",
      "metadata": {
        "id": "262658bf"
      },
      "source": [
        "**Output:** False"
      ]
    },
    {
      "cell_type": "code",
      "execution_count": null,
      "id": "0eeb8a07",
      "metadata": {
        "id": "0eeb8a07"
      },
      "outputs": [],
      "source": [
        "age = 10\n",
        "is_weekday = True\n",
        "is_family_day = False\n",
        "group_size = 2\n",
        "discount = (age <= 12 and is_weekday) or (age >= 65) or (is_family_day and group_size >= 4)\n",
        "print(\"Discount (new):\", discount)"
      ]
    },
    {
      "cell_type": "markdown",
      "id": "1f86f9b3",
      "metadata": {
        "id": "1f86f9b3"
      },
      "source": [
        "**Output:** True"
      ]
    },
    {
      "cell_type": "markdown",
      "id": "ba6cadd3",
      "metadata": {
        "id": "ba6cadd3"
      },
      "source": [
        "**Step-by-step:**\n",
        "- (age <= 12 and is_weekday) → True\n",
        "- (age >= 65) → False\n",
        "- (is_family_day and group_size >= 4) → False\n",
        "- Final Result: True"
      ]
    },
    {
      "cell_type": "markdown",
      "id": "8f7d677c",
      "metadata": {
        "id": "8f7d677c"
      },
      "source": [
        "## Section 3: String Data Types, Indexing & Slicing"
      ]
    },
    {
      "cell_type": "code",
      "execution_count": null,
      "id": "6f9e57d3",
      "metadata": {
        "id": "6f9e57d3"
      },
      "outputs": [],
      "source": [
        "secret_message = \"PyThoN_Is_FuN_AnD_PoWeRfUl!\"\n",
        "print(secret_message[5])"
      ]
    },
    {
      "cell_type": "markdown",
      "id": "255ff61b",
      "metadata": {
        "id": "255ff61b"
      },
      "source": [
        "**Output:** N"
      ]
    },
    {
      "cell_type": "code",
      "execution_count": null,
      "id": "fec68ff3",
      "metadata": {
        "id": "fec68ff3"
      },
      "outputs": [],
      "source": [
        "print(secret_message[7:13])"
      ]
    },
    {
      "cell_type": "markdown",
      "id": "71dff202",
      "metadata": {
        "id": "71dff202"
      },
      "source": [
        "**Output:** Is_FuN"
      ]
    },
    {
      "cell_type": "code",
      "execution_count": null,
      "id": "3ababf52",
      "metadata": {
        "id": "3ababf52"
      },
      "outputs": [],
      "source": [
        "print(secret_message[-10:-1])"
      ]
    },
    {
      "cell_type": "markdown",
      "id": "014eead5",
      "metadata": {
        "id": "014eead5"
      },
      "source": [
        "**Output:** PoWeRfUl"
      ]
    },
    {
      "cell_type": "code",
      "execution_count": null,
      "id": "ddd0422f",
      "metadata": {
        "id": "ddd0422f"
      },
      "outputs": [],
      "source": [
        "print(secret_message[0::4])"
      ]
    },
    {
      "cell_type": "markdown",
      "id": "221aa4b3",
      "metadata": {
        "id": "221aa4b3"
      },
      "source": [
        "**Output:** PoNFNDU"
      ]
    },
    {
      "cell_type": "markdown",
      "id": "44b6daa6",
      "metadata": {
        "id": "44b6daa6"
      },
      "source": [
        "```python\n",
        "# print(secret_message[50])\n",
        "```\n",
        "Would raise: IndexError\n",
        "\n",
        "**Explanation:** Index exceeds string length."
      ]
    },
    {
      "cell_type": "markdown",
      "id": "85ed69db",
      "metadata": {
        "id": "85ed69db"
      },
      "source": [
        "## Section 4: Boolean Values & Expressions"
      ]
    },
    {
      "cell_type": "code",
      "execution_count": null,
      "id": "ece6e09b",
      "metadata": {
        "id": "ece6e09b"
      },
      "outputs": [],
      "source": [
        "x = 15\n",
        "y = 25\n",
        "z = 15\n",
        "text = \"adventure\"\n",
        "print((x == z) and (y > x))"
      ]
    },
    {
      "cell_type": "markdown",
      "id": "21d7c747",
      "metadata": {
        "id": "21d7c747"
      },
      "source": [
        "**Output:** True"
      ]
    },
    {
      "cell_type": "code",
      "execution_count": null,
      "id": "51e1b7d0",
      "metadata": {
        "id": "51e1b7d0"
      },
      "outputs": [],
      "source": [
        "print((x != z) or (y < x) or (len(text) < 5))"
      ]
    },
    {
      "cell_type": "markdown",
      "id": "3b4d1769",
      "metadata": {
        "id": "3b4d1769"
      },
      "source": [
        "**Output:** False"
      ]
    },
    {
      "cell_type": "code",
      "execution_count": null,
      "id": "29e35bd2",
      "metadata": {
        "id": "29e35bd2"
      },
      "outputs": [],
      "source": [
        "print(not ((x > y) and (text == \"Adventure\")))"
      ]
    },
    {
      "cell_type": "markdown",
      "id": "01202efe",
      "metadata": {
        "id": "01202efe"
      },
      "source": [
        "**Output:** True"
      ]
    },
    {
      "cell_type": "markdown",
      "id": "838427ac",
      "metadata": {
        "id": "838427ac"
      },
      "source": [
        "## Section 5: String Properties & Basic Methods"
      ]
    },
    {
      "cell_type": "markdown",
      "id": "0326a476",
      "metadata": {
        "id": "0326a476"
      },
      "source": [
        "```python\n",
        "username = \"MyUser123\"\n",
        "username[0] = 'm'  # Error\n",
        "```\n",
        "**Output:** TypeError\n",
        "\n",
        "**Explanation:** Strings are immutable."
      ]
    },
    {
      "cell_type": "code",
      "execution_count": null,
      "id": "19328580",
      "metadata": {
        "id": "19328580"
      },
      "outputs": [],
      "source": [
        "quote = \" practice makes perfect \"\n",
        "formatted_quote = quote.strip().upper().replace(\"PERFECT\", \"PROGRESS\")\n",
        "print(\"Formatted quote:\", formatted_quote)"
      ]
    },
    {
      "cell_type": "markdown",
      "id": "54ec3fb3",
      "metadata": {
        "id": "54ec3fb3"
      },
      "source": [
        "**Output:** PRACTICE MAKES PROGRESS"
      ]
    },
    {
      "cell_type": "code",
      "execution_count": null,
      "id": "03e3feb3",
      "metadata": {
        "id": "03e3feb3"
      },
      "outputs": [],
      "source": [
        "print(\"Original length:\", len(quote))\n",
        "print(\"Formatted length:\", len(formatted_quote))"
      ]
    },
    {
      "cell_type": "markdown",
      "id": "0e7275cb",
      "metadata": {
        "id": "0e7275cb"
      },
      "source": [
        "**Output:** 25, 24"
      ]
    }
  ],
  "metadata": {
    "colab": {
      "provenance": []
    },
    "language_info": {
      "name": "python"
    },
    "kernelspec": {
      "name": "python3",
      "display_name": "Python 3"
    }
  },
  "nbformat": 4,
  "nbformat_minor": 5
}